{
 "cells": [
  {
   "cell_type": "code",
   "execution_count": null,
   "id": "d84a6c79",
   "metadata": {},
   "outputs": [],
   "source": [
    "import matplotlib.pyplot as plt \n",
    "import tensorflow as tf\n",
    "import numpy as np\n",
    "import keras\n",
    "from tensorflow.python.keras import regularizers\n",
    "from tensorflow.keras.layers import Dense, Flatten, Conv2D, Dropout, BatchNormalization, MaxPooling2D\n",
    "from tensorflow.keras import Model\n",
    "from tensorflow.keras.preprocessing.image import ImageDataGenerator\n",
    "import pandas as pd\n",
    "from numpy import asarray\n",
    "from tensorflow.keras.applications.nasnet import preprocess_input\n",
    "import random\n",
    "from keras import layers\n",
    "from tensorflow.keras.utils import plot_model"
   ]
  },
  {
   "cell_type": "code",
   "execution_count": null,
   "id": "c2cdff3a",
   "metadata": {},
   "outputs": [],
   "source": [
    "tf.config.list_physical_devices(\n",
    "    device_type=None\n",
    ")\n",
    "path = \"machine-learning-in-science-2022/\""
   ]
  },
  {
   "cell_type": "code",
   "execution_count": null,
   "id": "5666007d",
   "metadata": {},
   "outputs": [],
   "source": [
    "def read_dataset(img_path,label):\n",
    "    img = tf.io.read_file(img_path)\n",
    "    img = tf.image.decode_png(img,channels=3)\n",
    "    img = tf.cast(img, tf.float32)\n",
    "    #y = tf.reshape(tf.convert_to_tensor(labels),(1,2))\n",
    "    return img,label"
   ]
  },
  {
   "cell_type": "code",
   "execution_count": null,
   "id": "ca3b5323",
   "metadata": {},
   "outputs": [],
   "source": [
    "def add_noise(img):\n",
    "    noise = tf.random.normal(tf.shape(img),0,5)\n",
    "    img += noise\n",
    "    img = tf.clip_by_value(img, 0, 255)\n",
    "    return img"
   ]
  },
  {
   "cell_type": "markdown",
   "id": "3f1773f9",
   "metadata": {},
   "source": [
    "df = pd.read_csv(path + 'training_norm.csv')\n",
    "img_list = df[\"image_id\"].values\n",
    "img_path = []\n",
    "for i in range(len(img_list)):\n",
    "    img_path.append(path + 'training_data/training_data/' + str(img_list[i]) + '.png')\n",
    "labels = np.stack((df[\"angle\"].values,df[\"speed\"].values),axis = 1)"
   ]
  },
  {
   "cell_type": "code",
   "execution_count": null,
   "id": "9d281138",
   "metadata": {
    "scrolled": true
   },
   "outputs": [],
   "source": [
    "df = pd.read_csv(path + 'training_norm.csv')\n",
    "img_path = []\n",
    "angle = []\n",
    "speed = []\n",
    "for _,row in df.iterrows():\n",
    "    img_path.append(path + 'training_data/training_data/' + str(int(row[\"image_id\"])) + '.png')\n",
    "    angle.append(row[\"angle\"])\n",
    "    speed.append(int(row[\"speed\"]))"
   ]
  },
  {
   "cell_type": "code",
   "execution_count": null,
   "id": "e265c6c6",
   "metadata": {},
   "outputs": [],
   "source": [
    "ds_train = tf.data.Dataset.from_tensor_slices((img_path, {'angle_prediction':angle,'speed_prediction':speed}))\n",
    "ds_train = ds_train.map(read_dataset).map(lambda image, label: (tf.image.random_contrast(image, lower = 0.9, upper = 1), label)\n",
    "                                                                ).map(lambda image, label: (tf.image.random_saturation(image, lower = 0.8, upper = 1.2),label)\n",
    "                                                                     ).map(lambda image, label: (tf.image.random_brightness(image, 0.5 ,1.5),label)\n",
    "                                                                          ).map(lambda image, label: (add_noise(image), label)\n",
    "                                                                               ).shuffle(1000).batch(128).repeat(4)\n",
    "                      "
   ]
  },
  {
   "cell_type": "code",
   "execution_count": null,
   "id": "0f4f2d24",
   "metadata": {},
   "outputs": [],
   "source": [
    "x = next(iter(ds_train))"
   ]
  },
  {
   "cell_type": "code",
   "execution_count": null,
   "id": "1e7aef6c",
   "metadata": {},
   "outputs": [],
   "source": [
    "x[1]"
   ]
  },
  {
   "cell_type": "code",
   "execution_count": null,
   "id": "b788ff35",
   "metadata": {
    "scrolled": true
   },
   "outputs": [],
   "source": [
    "#mirrored_strategy = tf.distribute.MirroredStrategy(devices=[\"/gpu:0\", \"/cpu:0\"])\n",
    "#with mirrored_strategy.scope():\n",
    "base_model = tf.keras.Sequential(\n",
    "    [\n",
    "    keras.Input(shape=(240, 320, 3)),\n",
    "    layers.Rescaling(scale = 1./127.5, offset=-1),\n",
    "    Conv2D(filters = 16,kernel_size = 5,strides=(2, 2), padding='same', activation=\"relu\"),\n",
    "    Dropout(0.1),\n",
    "\n",
    "    layers.Conv2D(filters = 8,kernel_size = 3,strides=(1,1), padding='same', activation=\"relu\"),\n",
    "    layers.AveragePooling2D((2, 2), strides=2),\n",
    "\n",
    "    layers.Flatten(),\n",
    "    layers.Dense(128, activation=\"relu\"),\n",
    "    Dropout(0.2),\n",
    "    layers.BatchNormalization()\n",
    "    ]\n",
    ")\n",
    "\n",
    "dense1 = Dense(64,activation = 'relu')(base_model.layers[-1].output)\n",
    "angle_pred = Dense(1, activation='relu',name=\"angle_prediction\")(dense1)\n",
    "\n",
    "denseA = Dense(64,activation = 'relu')(base_model.layers[-1].output)\n",
    "speed_pred = Dense(1, activation='sigmoid',name=\"speed_prediction\")(denseA)\n",
    "\n",
    "model = Model(inputs=base_model.input, outputs=[angle_pred,speed_pred])\n",
    "model.compile(optimizer=\"adam\", loss={\"angle_prediction\":'mse',\"speed_prediction\":'binary_crossentropy'})\n",
    "model.summary()\n",
    "plot_model(model,show_shapes=True)"
   ]
  },
  {
   "cell_type": "code",
   "execution_count": null,
   "id": "a38d5c2d",
   "metadata": {
    "scrolled": true
   },
   "outputs": [],
   "source": [
    "model.fit(ds_train,epochs=10)"
   ]
  },
  {
   "cell_type": "code",
   "execution_count": null,
   "id": "fb90d33c",
   "metadata": {
    "scrolled": true
   },
   "outputs": [],
   "source": [
    "model.save(\"own_net-10epochs\")"
   ]
  },
  {
   "cell_type": "code",
   "execution_count": null,
   "id": "0a01bc88",
   "metadata": {
    "scrolled": true
   },
   "outputs": [],
   "source": [
    "#mirrored_strategy = tf.distribute.MirroredStrategy(devices=[\"/gpu:0\", \"/cpu:0\"])\n",
    "#with mirrored_strategy.scope():\n",
    "base_model = tf.keras.applications.NASNetMobile(\n",
    "weights=None,  # Load weights pre-trained on ImageNet.\n",
    "input_shape=(240, 320, 3),\n",
    "include_top=False,\n",
    "pooling='avg')\n",
    "flat = Flatten()(base_model.layers[-1].output)\n",
    "bn1 = layers.BatchNormalization()(flat)\n",
    "\n",
    "dense1 = Dense(1056,activation = 'relu')(bn1)\n",
    "bn2 = layers.BatchNormalization()(dense1)\n",
    "dense2 = Dense(1056,activation = 'relu')(bn2)\n",
    "bn3 = layers.BatchNormalization()(dense2)\n",
    "dense3 = Dense(1056,activation = 'relu')(bn3)\n",
    "bn4 = layers.BatchNormalization()(dense3)\n",
    "angle_pred = Dense(1, activation='relu',name=\"angle_prediction\")(bn4)\n",
    "\n",
    "denseA = Dense(1056,activation = 'relu')(bn1)\n",
    "bnA = layers.BatchNormalization()(denseA)\n",
    "denseB = Dense(1056,activation = 'relu')(bn2)\n",
    "bnB = layers.BatchNormalization()(denseB)\n",
    "denseC = Dense(1056,activation = 'relu')(bnB)\n",
    "bnC = layers.BatchNormalization()(denseC)\n",
    "speed_pred = Dense(1, activation='sigmoid',name=\"speed_prediction\")(bnC)\n",
    "model = Model(inputs=base_model.inputs, outputs=[angle_pred,speed_pred])\n",
    "model.compile(optimizer=\"adam\", loss={\"angle_prediction\":'mse',\"speed_prediction\":'binary_crossentropy'})\n",
    "model.summary()\n",
    "\n",
    "plot_model(model,show_shapes=True)"
   ]
  },
  {
   "cell_type": "code",
   "execution_count": null,
   "id": "78d7f205",
   "metadata": {
    "scrolled": true
   },
   "outputs": [],
   "source": [
    "model.fit(ds_train,epochs=5)"
   ]
  },
  {
   "cell_type": "code",
   "execution_count": null,
   "id": "65a32220",
   "metadata": {},
   "outputs": [],
   "source": [
    "def read_dataset_test(img_path):\n",
    "    img = tf.io.read_file(img_path)\n",
    "    img = tf.image.decode_png(img,channels=3)\n",
    "    img = tf.cast(img, tf.float32)\n",
    "    img = tf.reshape(img,[1,240,320,3])\n",
    "    return img"
   ]
  },
  {
   "cell_type": "code",
   "execution_count": null,
   "id": "5ce55d5f",
   "metadata": {
    "scrolled": true
   },
   "outputs": [],
   "source": [
    "model.predict(read_dataset_test(path + 'training_data/training_data/' + '7' + '.png'))"
   ]
  },
  {
   "cell_type": "code",
   "execution_count": null,
   "id": "cd08f72e",
   "metadata": {},
   "outputs": [],
   "source": [
    "model = keras.models.load_model(\"nasnet_working\")"
   ]
  },
  {
   "cell_type": "code",
   "execution_count": null,
   "id": "06fe4d5e",
   "metadata": {
    "scrolled": true
   },
   "outputs": [],
   "source": [
    "predictions = []\n",
    "for i in range(1,1021):\n",
    "    predictions.append(model.predict(read_dataset_test(path + 'test_data/test_data/' + str(i) + '.png')))"
   ]
  },
  {
   "cell_type": "code",
   "execution_count": null,
   "id": "6a983416",
   "metadata": {},
   "outputs": [],
   "source": []
  },
  {
   "cell_type": "code",
   "execution_count": null,
   "id": "1fb21cd5",
   "metadata": {},
   "outputs": [],
   "source": [
    "for i in range(len(predictions)):\n",
    "    speed = predictions[i][1]\n",
    "    if abs(1-speed) < abs(speed-0):\n",
    "        predictions[i][1] = 1\n",
    "    else:\n",
    "        predictions[i][1] = 0\n",
    "    predictions[i][0] = predictions[i][0][0][0]"
   ]
  },
  {
   "cell_type": "code",
   "execution_count": null,
   "id": "aa1f029c",
   "metadata": {},
   "outputs": [],
   "source": [
    "predictions"
   ]
  },
  {
   "cell_type": "code",
   "execution_count": null,
   "id": "f5910896",
   "metadata": {},
   "outputs": [],
   "source": [
    "df1 = pd.DataFrame(predictions,columns=['angle', 'speed'])"
   ]
  },
  {
   "cell_type": "code",
   "execution_count": null,
   "id": "4815b3f3",
   "metadata": {
    "scrolled": true
   },
   "outputs": [],
   "source": [
    "df1"
   ]
  },
  {
   "cell_type": "code",
   "execution_count": null,
   "id": "b73d7eca",
   "metadata": {},
   "outputs": [],
   "source": [
    "df1.to_excel(\"output.xlsx\")"
   ]
  },
  {
   "cell_type": "code",
   "execution_count": null,
   "id": "93849541",
   "metadata": {},
   "outputs": [],
   "source": []
  }
 ],
 "metadata": {
  "kernelspec": {
   "display_name": "Python 3 (ipykernel)",
   "language": "python",
   "name": "python3"
  },
  "language_info": {
   "codemirror_mode": {
    "name": "ipython",
    "version": 3
   },
   "file_extension": ".py",
   "mimetype": "text/x-python",
   "name": "python",
   "nbconvert_exporter": "python",
   "pygments_lexer": "ipython3",
   "version": "3.9.7"
  }
 },
 "nbformat": 4,
 "nbformat_minor": 5
}
